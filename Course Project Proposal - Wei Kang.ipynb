{
 "cells": [
  {
   "cell_type": "markdown",
   "metadata": {},
   "source": [
    "# Project Proposal (Wei Kang)\n",
    "----------------------------------------------\n",
    "\n",
    "## Project Objectives\n",
    "\n",
    "The course project will contribute to the [spatial_dynamics](https://github.com/pysal/pysal/tree/master/pysal/spatial_dynamics) module in pysal, \n",
    "particularly focusing on the simulation/prediction of Discrete Markov Chain Model (DMC) and its spatial variates. In additon, some mobility measures and inference will be implemented. \n",
    "\n",
    "### 1. Simulation/prediction of DMC and its variates:\n",
    "\n",
    "The python package [quantecon](https://github.com/QuantEcon/QuantEcon.py) which is developed by Stachurski team contains a class named **MarkovChain**. This class doesn't include methods which estimates transition probability matrix, but it can simulate state transitions based on a given classic transition probability matrix. We can adopt a similar strategy to predict classic DMC. As for the spatial variate of DMC - Spatial Markov Chain Model (SMC), the fact that spatial lags are needed at every time point makes it less straightforward to implement. As the spatial lag is the average of neighbors, we need more of a continuous data type rather than the discrete states. 3 possible ways to resolve this problem are:\n",
    "* Use the most common state of neighbors as the spatial lag state.\n",
    "* If the discrete states space is ordinal, we might treat the discrete state space as a continuous one. The nearest discrete state of the average of neighbors states can be considered as an approximate of the spatial lag.\n",
    "* If the marginal distribution of each time series is given or can be estimated from historical data, we would be able to convert the discrete state to continuous data based on theses marginal distributions. Thus spatial lags can be calculated in the usual way. Continuous time series will be predicted using this strategy.\n",
    "    \n",
    "    \n",
    "### 2. Implementation of mobility measures and inference: \n",
    "\n",
    "Right now, the [spatial_dynamics](https://github.com/pysal/pysal/tree/master/pysal/spatial_dynamics) module contains only 2 mobility measures \"shorrock\" and \"prais\", both of them are based on Markov transition probability matrix. We can introduce more mobility measures to pysal, Markov-based or not. We might also include some mobility inference statistics[1]. The mobility measures or inference statistics may not be spatially explicit at the moment, but it can serve as a benchmark based on which we can explore to incorporate spatial effects in the future.\n",
    "\n",
    "## Tentative Workplan\n",
    "\n",
    "* Feb 8 - March 15: Markov prediction/simulation\n",
    "* March 15 - April 20: Mobility measures and inference\n",
    "\n",
    "## Deliverables\n",
    "\n",
    "Final product of the course project will take the form of python code and Jupyter Notebook. The former will contain all the classes and functions for the space-time method implementation. The latter will serve as a tutorial which illustrates the usage.\n",
    "\n",
    "[1] J. Formby, W. Smith, and B. Zheng. Mobility measurement, transition matrices and statistical inference. Journal of Econometrics, 120(1):181–205, 2004."
   ]
  }
 ],
 "metadata": {
  "kernelspec": {
   "display_name": "Python 2",
   "language": "python",
   "name": "python2"
  },
  "language_info": {
   "codemirror_mode": {
    "name": "ipython",
    "version": 2
   },
   "file_extension": ".py",
   "mimetype": "text/x-python",
   "name": "python",
   "nbconvert_exporter": "python",
   "pygments_lexer": "ipython2",
   "version": "2.7.10"
  }
 },
 "nbformat": 4,
 "nbformat_minor": 0
}
